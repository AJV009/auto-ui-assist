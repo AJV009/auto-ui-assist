{
 "cells": [
  {
   "cell_type": "code",
   "execution_count": 1,
   "metadata": {},
   "outputs": [],
   "source": [
    "# load the json file test_queries.json\n",
    "import json\n",
    "\n",
    "test_queries = json.load(open('test_queries.json'))"
   ]
  },
  {
   "cell_type": "code",
   "execution_count": 3,
   "metadata": {},
   "outputs": [
    {
     "name": "stdout",
     "output_type": "stream",
     "text": [
      "[\n",
      "  {\n",
      "    \"task\": \"renewable_energy_presentation\",\n",
      "    \"prompt\": \"Create a presentation about the benefits of renewable energy. Include a pie chart showing the global energy mix and a bar plot comparing the costs of different energy sources. Use a green technology theme and make it look professional.\"\n",
      "  },\n",
      "  {\n",
      "    \"task\": \"product_sales_data_formatting\",\n",
      "    \"prompt\": \"Create an Excel sheet with a table of sales data for different products. Include columns for product name, unit price, quantity sold, and total revenue. Calculate the average price and total revenue for each product. Format the column names in bold and merge the cells in the header row.\"\n",
      "  },\n",
      "  {\n",
      "    \"task\": \"software_engineer_cover_letter\",\n",
      "    \"prompt\": \"Draft a professional cover letter for a software engineer position at Google. Highlight the candidate's experience with Python, machine learning, and web development. Use a formal tone and a clean, modern template.\"\n",
      "  }\n",
      "]\n"
     ]
    }
   ],
   "source": [
    "'''\n",
    "test_queries looks like this:\n",
    "\n",
    "[\n",
    "    {\n",
    "      \"task\": \"renewable_energy_presentation\",\n",
    "      \"prompt\": \"Create a presentation about the benefits of renewable energy. Include a pie chart showing the global energy mix and a bar plot comparing the costs of different energy sources. Use a green technology theme and make it look professional.\"\n",
    "    },\n",
    "    {\n",
    "      \"task\": \"ai_healthcare_research_summary\",\n",
    "      \"prompt\": \"Make a presentation summarizing the key findings of the research paper 'Advances in AI for Healthcare' by John Doe et al. Include the most important figures and tables from the paper. Use a clean, minimalistic theme suitable for an academic audience.\"\n",
    "    },\n",
    "    ...\n",
    "'''\n",
    "# print queries whose task is 'renewable_energy_presentation', 'product_sales_data_formatting', 'software_engineer_cover_letter'\n",
    "filtered_queries = [query for query in test_queries if query['task'] in ['renewable_energy_presentation', 'product_sales_data_formatting', 'software_engineer_cover_letter']]\n",
    "print(json.dumps(filtered_queries, indent=2))"
   ]
  },
  {
   "cell_type": "code",
   "execution_count": 4,
   "metadata": {},
   "outputs": [
    {
     "data": {
      "text/plain": [
       "'\\nRough notes:\\nUFO paper - https://arxiv.org/abs/2402.07939\\n'"
      ]
     },
     "execution_count": 4,
     "metadata": {},
     "output_type": "execute_result"
    }
   ],
   "source": [
    "'''\n",
    "Rough notes:\n",
    "UFO paper - https://arxiv.org/abs/2402.07939\n",
    "OS Copilot paper - https://arxiv.org/pdf/2402.07456\n",
    "ScreenAgent paper - https://arxiv.org/abs/2402.07945\n",
    "'''"
   ]
  },
  {
   "cell_type": "code",
   "execution_count": null,
   "metadata": {},
   "outputs": [],
   "source": []
  }
 ],
 "metadata": {
  "kernelspec": {
   "display_name": "uiassist",
   "language": "python",
   "name": "python3"
  },
  "language_info": {
   "codemirror_mode": {
    "name": "ipython",
    "version": 3
   },
   "file_extension": ".py",
   "mimetype": "text/x-python",
   "name": "python",
   "nbconvert_exporter": "python",
   "pygments_lexer": "ipython3",
   "version": "3.11.5"
  }
 },
 "nbformat": 4,
 "nbformat_minor": 2
}
