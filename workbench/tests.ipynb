{
 "cells": [
  {
   "cell_type": "code",
   "execution_count": 1,
   "metadata": {},
   "outputs": [],
   "source": [
    "# load the json file test_queries.json\n",
    "import json\n",
    "\n",
    "test_queries = json.load(open('test_queries.json'))"
   ]
  },
  {
   "cell_type": "code",
   "execution_count": 3,
   "metadata": {},
   "outputs": [
    {
     "name": "stdout",
     "output_type": "stream",
     "text": [
      "[\n",
      "  {\n",
      "    \"task\": \"renewable_energy_presentation\",\n",
      "    \"prompt\": \"Create a presentation about the benefits of renewable energy. Include a pie chart showing the global energy mix and a bar plot comparing the costs of different energy sources. Use a green technology theme and make it look professional.\"\n",
      "  },\n",
      "  {\n",
      "    \"task\": \"product_sales_data_formatting\",\n",
      "    \"prompt\": \"Create an Excel sheet with a table of sales data for different products. Include columns for product name, unit price, quantity sold, and total revenue. Calculate the average price and total revenue for each product. Format the column names in bold and merge the cells in the header row.\"\n",
      "  },\n",
      "  {\n",
      "    \"task\": \"software_engineer_cover_letter\",\n",
      "    \"prompt\": \"Draft a professional cover letter for a software engineer position at Google. Highlight the candidate's experience with Python, machine learning, and web development. Use a formal tone and a clean, modern template.\"\n",
      "  }\n",
      "]\n"
     ]
    }
   ],
   "source": [
    "'''\n",
    "test_queries looks like this:\n",
    "\n",
    "[\n",
    "    {\n",
    "      \"task\": \"renewable_energy_presentation\",\n",
    "      \"prompt\": \"Create a presentation about the benefits of renewable energy. Include a pie chart showing the global energy mix and a bar plot comparing the costs of different energy sources. Use a green technology theme and make it look professional.\"\n",
    "    },\n",
    "    {\n",
    "      \"task\": \"ai_healthcare_research_summary\",\n",
    "      \"prompt\": \"Make a presentation summarizing the key findings of the research paper 'Advances in AI for Healthcare' by John Doe et al. Include the most important figures and tables from the paper. Use a clean, minimalistic theme suitable for an academic audience.\"\n",
    "    },\n",
    "    ...\n",
    "'''\n",
    "# print queries whose task is 'renewable_energy_presentation', 'product_sales_data_formatting', 'software_engineer_cover_letter'\n",
    "filtered_queries = [query for query in test_queries if query['task'] in ['renewable_energy_presentation', 'product_sales_data_formatting', 'software_engineer_cover_letter']]\n",
    "print(json.dumps(filtered_queries, indent=2))"
   ]
  },
  {
   "cell_type": "code",
   "execution_count": 4,
   "metadata": {},
   "outputs": [
    {
     "data": {
      "text/plain": [
       "'\\nRough notes:\\nUFO paper - https://arxiv.org/abs/2402.07939\\n'"
      ]
     },
     "execution_count": 4,
     "metadata": {},
     "output_type": "execute_result"
    }
   ],
   "source": [
    "'''\n",
    "Rough notes:\n",
    "UFO paper - https://arxiv.org/abs/2402.07939\n",
    "OS Copilot paper - https://arxiv.org/pdf/2402.07456\n",
    "ScreenAgent paper - https://arxiv.org/abs/2402.07945\n",
    "'''"
   ]
  },
  {
   "cell_type": "code",
   "execution_count": 39,
   "metadata": {},
   "outputs": [],
   "source": [
    "import os\n",
    "import re\n",
    "\n",
    "def prompt_loader(agent_name):\n",
    "    file_name = f\"../api/prompt_lib/{agent_name}.txt\"\n",
    "    \n",
    "    if not os.path.exists(file_name):\n",
    "        return None\n",
    "    \n",
    "    with open(file_name, 'r') as file:\n",
    "        content = file.read()\n",
    "    \n",
    "    prompt_template = {\n",
    "        'system_prompt': '',\n",
    "        'fewshot_messages': []\n",
    "    }\n",
    "    \n",
    "    system_prompt_pattern = r'\\[\\[prompt_template-system_prompt\\]\\](.*?)\\[\\[prompt_template-system_prompt\\]\\]'\n",
    "    system_prompt_match = re.search(system_prompt_pattern, content, re.DOTALL)\n",
    "    \n",
    "    if system_prompt_match:\n",
    "        prompt_template['system_prompt'] = system_prompt_match.group(1).replace('\\\\\"', '\"').strip()\n",
    "    \n",
    "    fewshot_pattern = r'\\[\\[prompt_template-fewshot\\]\\](.*?)\\[\\[prompt_template-fewshot\\]\\]'\n",
    "    fewshot_match = re.search(fewshot_pattern, content, re.DOTALL)\n",
    "    \n",
    "    if fewshot_match:\n",
    "        fewshot_content = fewshot_match.group(1).replace('\\\\\"', '\"').strip()\n",
    "        fewshot_messages = re.split(r'\\[\\[prompt_template-fewshot-(?:user|assistant)\\]\\]', fewshot_content)\n",
    "        \n",
    "        for message in fewshot_messages:\n",
    "            message = message.strip()\n",
    "            if message:\n",
    "                if message.startswith('{') and message.endswith('}'):\n",
    "                    prompt_template['fewshot_messages'].append({'role': 'assistant', 'content': message})\n",
    "                else:\n",
    "                    prompt_template['fewshot_messages'].append({'role': 'user', 'content': message})\n",
    "    \n",
    "    return prompt_template\n",
    "task_corrector_prompts = prompt_loader('task_corrector')"
   ]
  },
  {
   "cell_type": "code",
   "execution_count": 40,
   "metadata": {},
   "outputs": [
    {
     "data": {
      "text/plain": [
       "[{'role': 'user',\n",
       "  'content': 'Correct the following task\\n<task>\\nWrite a press release announcing the launch of a new sustainable fashion line. Include quotes from the designer and information about the eco-friendly materials used. Format the document with a header, subheadings, and a footer with contact information.\\n</task>\\n\\nNew App list:\\n<app_list>\\n{\\n    \"AllUsersPrograms\": {\\n      \"Access.lnk\": null,\\n      \"Brave.lnk\": null,\\n    },\\n    \"StartMenu\": {\\n      \"Programs\": {\\n        \"Administrative Tools.lnk\": null,\\n        \"F1_23.lnk\": null,\\n        \"File Explorer.lnk\": null\\n      }\\n    },\\n    \"AllUsersDesktop\": {\\n      \"Brave.lnk\": null,\\n      \"VLC media player.lnk\": null\\n    }\\n  }\\n</app_list>'},\n",
       " {'role': 'assistant',\n",
       "  'content': '{\"corrected_task\": \"Write a press release using Google Docs announcing the launch of a new sustainable fashion line. Use Brave to google information about a new sustainable fashion line and include quotes from the designer and information about any eco-friendly materials used. Format the document with a header, subheadings, and a footer with contact information.\", \"launch_app_list\": [\"Brave.lnk\"]}'},\n",
       " {'role': 'user',\n",
       "  'content': 'User task:\\n<task>\\nOpen the renewable eneergy presentation. And add a pie chart showing the global energy mix and a bar plot comparing the costs of different energy sources. Use a green technology theme and make it look professional.\\n</task>\\n\\nApp list:\\n<app_list>\\n{\\n    \"AllUsersPrograms\": {\\n      \"Access.lnk\": null,\\n      \"Brave.lnk\": null,\\n      \"Epic Games Launcher.lnk\": null,\\n      \"Excel.lnk\": null,\\n      \"Microsoft Edge.lnk\": null,\\n      \"OneDrive.lnk\": null,\\n      \"OneNote.lnk\": null,\\n      \"Outlook.lnk\": null,\\n      \"PowerPoint.lnk\": null,\\n      \"Publisher.lnk\": null,\\n      \"Word.lnk\": null\\n    },\\n    \"StartMenu\": {\\n      \"Programs\": {\\n        \"Administrative Tools.lnk\": null,\\n        \"F1_23.lnk\": null,\\n        \"File Explorer.lnk\": null\\n      }\\n    },\\n    \"AllUsersDesktop\": {\\n      \"Brave.lnk\": null,\\n      \"VLC media player.lnk\": null\\n    }\\n  }\\n</app_list>'},\n",
       " {'role': 'assistant',\n",
       "  'content': '{\"corrected_task\": \"Open the renewable energy presentationin PowerPoint. And add a pie chart showing the global energy mix and a bar plot comparing the costs of different energy sources. Use a green technology theme and make it look professional. Use Microsoft Edge if required to search about benefits of renewable energy and costs of different energy sources.\", \"launch_app_list\": [\"PowerPoint.lnk\",\"Microsoft Edge.lnk\"], \"refinement\": true}'},\n",
       " {'role': 'user',\n",
       "  'content': 'You perfectly handeled a sitution where the task needed more info like the file name or path. Well done.\\n\\nNow correct the following task using the app list provided:\\n<task>\\n{task}\\n</task>\\n\\nNew App list:\\n<app_list>\\n{app_list}\\n</app_list>'}]"
      ]
     },
     "execution_count": 40,
     "metadata": {},
     "output_type": "execute_result"
    }
   ],
   "source": [
    "prompt_templates = prompt_loader(\"task_corrector\")\n",
    "prompt_templates['fewshot_messages']"
   ]
  },
  {
   "cell_type": "code",
   "execution_count": null,
   "metadata": {},
   "outputs": [],
   "source": []
  }
 ],
 "metadata": {
  "kernelspec": {
   "display_name": "uiassist",
   "language": "python",
   "name": "python3"
  },
  "language_info": {
   "codemirror_mode": {
    "name": "ipython",
    "version": 3
   },
   "file_extension": ".py",
   "mimetype": "text/x-python",
   "name": "python",
   "nbconvert_exporter": "python",
   "pygments_lexer": "ipython3",
   "version": "3.10.11"
  }
 },
 "nbformat": 4,
 "nbformat_minor": 2
}
